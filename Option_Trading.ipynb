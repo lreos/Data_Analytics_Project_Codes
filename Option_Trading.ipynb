{
 "cells": [
  {
   "cell_type": "code",
   "execution_count": 1,
   "metadata": {},
   "outputs": [],
   "source": [
    "import yfinance as yf\n",
    "tecl= yf.Ticker(\"tecl\")\n",
    "opt = tecl.option_chain('2021-03-19')\n",
    "calls_t= opt.calls\n",
    "test = calls_t.iloc[0]\n",
    "test1 = calls_t.loc[calls_t['strike']==305]\n",
    "test_bid = float(test['bid'])\n",
    "test1_bid = float(test1['bid'])\n",
    "net_credit = test_bid + test1_bid\n",
    "#net_credit"
   ]
  },
  {
   "cell_type": "code",
   "execution_count": 2,
   "metadata": {},
   "outputs": [
    {
     "data": {
      "text/html": [
       "<div>\n",
       "<style scoped>\n",
       "    .dataframe tbody tr th:only-of-type {\n",
       "        vertical-align: middle;\n",
       "    }\n",
       "\n",
       "    .dataframe tbody tr th {\n",
       "        vertical-align: top;\n",
       "    }\n",
       "\n",
       "    .dataframe thead th {\n",
       "        text-align: right;\n",
       "    }\n",
       "</style>\n",
       "<table border=\"1\" class=\"dataframe\">\n",
       "  <thead>\n",
       "    <tr style=\"text-align: right;\">\n",
       "      <th></th>\n",
       "      <th>Open</th>\n",
       "      <th>High</th>\n",
       "      <th>Low</th>\n",
       "      <th>Close</th>\n",
       "      <th>Volume</th>\n",
       "      <th>Dividends</th>\n",
       "      <th>Stock Splits</th>\n",
       "    </tr>\n",
       "    <tr>\n",
       "      <th>Date</th>\n",
       "      <th></th>\n",
       "      <th></th>\n",
       "      <th></th>\n",
       "      <th></th>\n",
       "      <th></th>\n",
       "      <th></th>\n",
       "      <th></th>\n",
       "    </tr>\n",
       "  </thead>\n",
       "  <tbody>\n",
       "    <tr>\n",
       "      <th>2021-02-22</th>\n",
       "      <td>439.609985</td>\n",
       "      <td>443.660004</td>\n",
       "      <td>425.320007</td>\n",
       "      <td>426.440002</td>\n",
       "      <td>304100</td>\n",
       "      <td>0</td>\n",
       "      <td>0</td>\n",
       "    </tr>\n",
       "    <tr>\n",
       "      <th>2021-02-23</th>\n",
       "      <td>406.190002</td>\n",
       "      <td>429.820007</td>\n",
       "      <td>383.790009</td>\n",
       "      <td>422.660004</td>\n",
       "      <td>468200</td>\n",
       "      <td>0</td>\n",
       "      <td>0</td>\n",
       "    </tr>\n",
       "    <tr>\n",
       "      <th>2021-02-24</th>\n",
       "      <td>413.660004</td>\n",
       "      <td>442.739990</td>\n",
       "      <td>403.549988</td>\n",
       "      <td>442.079987</td>\n",
       "      <td>261700</td>\n",
       "      <td>0</td>\n",
       "      <td>0</td>\n",
       "    </tr>\n",
       "    <tr>\n",
       "      <th>2021-02-25</th>\n",
       "      <td>429.880005</td>\n",
       "      <td>438.119995</td>\n",
       "      <td>390.000000</td>\n",
       "      <td>396.010010</td>\n",
       "      <td>390800</td>\n",
       "      <td>0</td>\n",
       "      <td>0</td>\n",
       "    </tr>\n",
       "    <tr>\n",
       "      <th>2021-02-26</th>\n",
       "      <td>407.100006</td>\n",
       "      <td>419.510010</td>\n",
       "      <td>390.880005</td>\n",
       "      <td>402.390015</td>\n",
       "      <td>299300</td>\n",
       "      <td>0</td>\n",
       "      <td>0</td>\n",
       "    </tr>\n",
       "  </tbody>\n",
       "</table>\n",
       "</div>"
      ],
      "text/plain": [
       "                  Open        High         Low       Close  Volume  Dividends  \\\n",
       "Date                                                                            \n",
       "2021-02-22  439.609985  443.660004  425.320007  426.440002  304100          0   \n",
       "2021-02-23  406.190002  429.820007  383.790009  422.660004  468200          0   \n",
       "2021-02-24  413.660004  442.739990  403.549988  442.079987  261700          0   \n",
       "2021-02-25  429.880005  438.119995  390.000000  396.010010  390800          0   \n",
       "2021-02-26  407.100006  419.510010  390.880005  402.390015  299300          0   \n",
       "\n",
       "            Stock Splits  \n",
       "Date                      \n",
       "2021-02-22             0  \n",
       "2021-02-23             0  \n",
       "2021-02-24             0  \n",
       "2021-02-25             0  \n",
       "2021-02-26             0  "
      ]
     },
     "execution_count": 2,
     "metadata": {},
     "output_type": "execute_result"
    }
   ],
   "source": [
    "tecl.history(period = \"5d\")"
   ]
  },
  {
   "cell_type": "code",
   "execution_count": 145,
   "metadata": {},
   "outputs": [],
   "source": [
    "import yfinance as yf\n",
    "import math\n",
    "import pandas as pd\n",
    "import numpy as np\n",
    "import matplotlib.pyplot as mp\n",
    "\n",
    "def rvol(rvol_days,amp,sec,mty):\n",
    "    global rvol_px\n",
    "    tecl= yf.Ticker(sec) #get ticker\n",
    "    period = tecl.history(period = str(rvol_days) + \"d\") #get realized vol\n",
    "    rvol_px = period['Close'].std()*math.sqrt(270/rvol_days)/100 #get price adjustment based on realized vol\n",
    "    opt = tecl.option_chain(mty) #get the opition chain\n",
    "    calls = opt.calls # get the calls\n",
    "    puts = opt.puts # get the puts\n",
    "    calls_vol_buy = calls[calls['impliedVolatility']<rvol_px] # assign all the calls to buy\n",
    "    puts_vol_buy = puts[puts['impliedVolatility']<rvol_px] # assign all the puts to buy\n",
    "    calls_vol_sell = calls[calls['impliedVolatility']>rvol_px] # assign only the calls that have ivols > rvols\n",
    "    puts_vol_sell = puts[puts['impliedVolatility']>rvol_px] # assign only the puts that have ivols > rvols\n",
    "    px = np.round(tecl.info['previousClose'],-1) # get spot px\n",
    "    \n",
    "    #determine whether the premium value is null or not\n",
    "    if not calls_vol_sell[calls_vol_sell['strike']== np.round(px*(1+amp),-1)].empty : \n",
    "        #calls_sell= calls_vol_sell[calls_vol_sell['strike']== np.round(px*(1+amp),-1)]['bid']\n",
    "        calls_sell= float((calls_vol_sell[calls_vol_sell['strike']== np.round(px*(1+amp),-1)]['bid']+\\\n",
    "        calls_vol_sell[calls_vol_sell['strike']== np.round(px*(1+amp),-1)]['ask'])/2)\n",
    "    else: \n",
    "        #calls_sell= opt.calls.iloc[0]\n",
    "        calls_sell = 0\n",
    "            \n",
    "    if not calls_vol_buy[calls_vol_buy['strike']== np.round((px*(1+amp))+50,-1)].empty : \n",
    "        #calls_buy= calls_vol_buy[calls_vol_buy['strike']== np.round((px*(1+amp))+50,-1)]['ask']\n",
    "        calls_buy= float((calls_vol_buy[calls_vol_buy['strike']== np.round((px*(1+amp))+50,-1)]['ask']+\\\n",
    "        calls_vol_buy[calls_vol_buy['strike']== np.round((px*(1+amp))+50,-1)]['bid'])/2)\n",
    "    else: \n",
    "        #calls_buy=opt.calls.iloc[0]\n",
    "        calls_buy=0\n",
    "        \n",
    "    if not puts_vol_sell[puts_vol_sell['strike']== np.round(px*(1-amp),-1)].empty : \n",
    "        #puts_sell= puts_vol_sell[puts_vol_sell['strike']== np.round(px*(1-amp),-1)]['bid']\n",
    "        puts_sell= float((puts_vol_sell[puts_vol_sell['strike']== np.round(px*(1-amp),-1)]['bid']+\\\n",
    "        puts_vol_sell[puts_vol_sell['strike']== np.round(px*(1-amp),-1)]['ask'])/2)\n",
    "    else: \n",
    "        #puts_sell=opt.puts.iloc[0]\n",
    "        puts_sell=0\n",
    "        \n",
    "    if not puts_vol_buy[puts_vol_buy['strike']== np.round(px*(1-amp)-50,-1)].empty : \n",
    "        #puts_buy= puts_vol_buy[puts_vol_buy['strike']== np.round(px*(1-amp)-50,-1)]['ask']\n",
    "        puts_buy= float((puts_vol_buy[puts_vol_buy['strike']== np.round(px*(1-amp)-50,-1)]['ask']+\\\n",
    "        puts_vol_buy[puts_vol_buy['strike']== np.round(px*(1-amp)-50,-1)]['bid'])/2)\n",
    "    else: \n",
    "        #puts_buy=opt.puts.iloc[0]\n",
    "        puts_buy=0\n",
    "    \n",
    "    global opt_vol_buy, opt_vol_sell\n",
    "    opt_vol_buy = calls_vol_buy.append(puts_vol_buy)\n",
    "    opt_vol_sell = calls_vol_sell.append(puts_vol_sell)\n",
    "    opt_vol = opt_vol_buy.append(opt_vol_sell)\n",
    "    #iron = calls_sell.append(calls_buy).append(puts_sell).append(puts_buy)\n",
    "    \n",
    "    net_credit = float(calls_sell) + float(puts_sell) - float(calls_buy) - float(puts_buy)\n",
    "    \n",
    "    print('calls_sell = {}\\ncalls_buy = {}\\nputs_sell = {}\\nputs_buy = {}\\nNet Credit = {}'.format(float(calls_sell),\\\n",
    "    float(calls_buy),float(puts_sell),float(puts_buy),net_credit))\n",
    "    \n",
    "    mp.scatter(opt_vol['strike'], \n",
    "            opt_vol['impliedVolatility'])\n",
    "    mp.gcf().set_size_inches(11,8)"
   ]
  },
  {
   "cell_type": "code",
   "execution_count": 146,
   "metadata": {},
   "outputs": [
    {
     "name": "stdout",
     "output_type": "stream",
     "text": [
      "calls_sell = 0.0\n",
      "calls_buy = 2.4\n",
      "puts_sell = 8.4\n",
      "puts_buy = 0.0\n",
      "Net Credit = 6.0\n"
     ]
    },
    {
     "data": {
      "image/png": "[encoded data removed]",
      "text/plain": [
       "<Figure size 792x576 with 1 Axes>"
      ]
     },
     "metadata": {},
     "output_type": "display_data"
    }
   ],
   "source": [
    "rvol(30,0.20,'tecl',\"2021-03-19\")"
   ]
  },
  {
   "cell_type": "code",
   "execution_count": 147,
   "metadata": {},
   "outputs": [
    {
     "data": {
      "text/plain": [
       "0.8459412621873327"
      ]
     },
     "execution_count": 147,
     "metadata": {},
     "output_type": "execute_result"
    }
   ],
   "source": [
    "rvol_px"
   ]
  },
  {
   "cell_type": "code",
   "execution_count": null,
   "metadata": {},
   "outputs": [],
   "source": []
  }
 ],
 "metadata": {
  "kernelspec": {
   "display_name": "Python 3",
   "language": "python",
   "name": "python3"
  },
  "language_info": {
   "codemirror_mode": {
    "name": "ipython",
    "version": 3
   },
   "file_extension": ".py",
   "mimetype": "text/x-python",
   "name": "python",
   "nbconvert_exporter": "python",
   "pygments_lexer": "ipython3",
   "version": "3.6.5"
  }
 },
 "nbformat": 4,
 "nbformat_minor": 2
}
